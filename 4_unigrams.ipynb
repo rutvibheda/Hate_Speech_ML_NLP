{
 "cells": [
  {
   "cell_type": "code",
   "execution_count": 15,
   "metadata": {},
   "outputs": [],
   "source": [
    "import numpy as np\n",
    "import pandas as pd\n",
    "import matplotlib.pyplot as plt\n",
    "import re\n",
    "import string\n",
    "import nltk \n",
    "from nltk.corpus import stopwords\n",
    "from nltk.stem import PorterStemmer\n",
    "from nltk.tokenize import TweetTokenizer\n",
    "import ast"
   ]
  },
  {
   "cell_type": "code",
   "execution_count": 16,
   "metadata": {},
   "outputs": [
    {
     "data": {
      "text/plain": [
       "Unnamed: 0                                                       10\n",
       "class                                                             0\n",
       "tweet             \" Keeks is a bitch she curves everyone \" lol I...\n",
       "processed_text    ['keeks', 'bitch', 'curves', 'everyone', 'lol'...\n",
       "stemmed           ['keek', 'bitch', 'curv', 'everyon', 'lol', 'w...\n",
       "Name: 10, dtype: object"
      ]
     },
     "execution_count": 16,
     "metadata": {},
     "output_type": "execute_result"
    }
   ],
   "source": [
    "df = pd.read_csv('Stemmed_Data2.csv')\n",
    "df.iloc[10]"
   ]
  },
  {
   "cell_type": "code",
   "execution_count": 17,
   "metadata": {},
   "outputs": [],
   "source": [
    "cols = []\n",
    "with open('C:/Users/femin/MP_Final/combined.txt') as f:\n",
    "    cols = f.read().splitlines()"
   ]
  },
  {
   "cell_type": "code",
   "execution_count": 18,
   "metadata": {},
   "outputs": [
    {
     "data": {
      "text/plain": [
       "137"
      ]
     },
     "execution_count": 18,
     "metadata": {},
     "output_type": "execute_result"
    }
   ],
   "source": [
    "len(cols)\n"
   ]
  },
  {
   "cell_type": "code",
   "execution_count": 19,
   "metadata": {},
   "outputs": [
    {
     "name": "stdout",
     "output_type": "stream",
     "text": [
      "True\n"
     ]
    }
   ],
   "source": [
    "print('hoe' in cols)"
   ]
  },
  {
   "cell_type": "code",
   "execution_count": 20,
   "metadata": {},
   "outputs": [],
   "source": [
    "def generate_col(row,col):\n",
    "    if col in ast.literal_eval(row):\n",
    "        return 1\n",
    "    else:\n",
    "        return 0"
   ]
  },
  {
   "cell_type": "code",
   "execution_count": 21,
   "metadata": {},
   "outputs": [],
   "source": [
    "def count_col(row):\n",
    "    count = 0\n",
    "    for i in ast.literal_eval(row):\n",
    "        if i in cols:\n",
    "            count=count+1\n",
    "    return count"
   ]
  },
  {
   "cell_type": "code",
   "execution_count": 22,
   "metadata": {},
   "outputs": [],
   "source": [
    "for col in cols:\n",
    "    df[col]=df['stemmed'].apply(lambda x: generate_col(x,col))\n",
    "# df['count']=df['stemmed'].apply(count_col)"
   ]
  },
  {
   "cell_type": "code",
   "execution_count": 23,
   "metadata": {},
   "outputs": [
    {
     "data": {
      "text/html": [
       "<div>\n",
       "<style scoped>\n",
       "    .dataframe tbody tr th:only-of-type {\n",
       "        vertical-align: middle;\n",
       "    }\n",
       "\n",
       "    .dataframe tbody tr th {\n",
       "        vertical-align: top;\n",
       "    }\n",
       "\n",
       "    .dataframe thead th {\n",
       "        text-align: right;\n",
       "    }\n",
       "</style>\n",
       "<table border=\"1\" class=\"dataframe\">\n",
       "  <thead>\n",
       "    <tr style=\"text-align: right;\">\n",
       "      <th></th>\n",
       "      <th>Unnamed: 0</th>\n",
       "      <th>class</th>\n",
       "      <th>tweet</th>\n",
       "      <th>processed_text</th>\n",
       "      <th>stemmed</th>\n",
       "      <th>bitch</th>\n",
       "      <th>faggot</th>\n",
       "      <th>fuck</th>\n",
       "      <th>nigga</th>\n",
       "      <th>nigger</th>\n",
       "      <th>...</th>\n",
       "      <th>xxx</th>\n",
       "      <th>#sex</th>\n",
       "      <th>#xxx</th>\n",
       "      <th>blow</th>\n",
       "      <th>mother</th>\n",
       "      <th>drug</th>\n",
       "      <th>rap</th>\n",
       "      <th>sexi</th>\n",
       "      <th>lip</th>\n",
       "      <th>thick</th>\n",
       "    </tr>\n",
       "  </thead>\n",
       "  <tbody>\n",
       "    <tr>\n",
       "      <th>0</th>\n",
       "      <td>0</td>\n",
       "      <td>1</td>\n",
       "      <td>!!! RT @mayasolovely: As a woman you shouldn't...</td>\n",
       "      <td>['woman', 'complain', 'cleaning', 'house', 'ma...</td>\n",
       "      <td>['woman', 'complain', 'clean', 'hous', 'man', ...</td>\n",
       "      <td>0</td>\n",
       "      <td>0</td>\n",
       "      <td>0</td>\n",
       "      <td>0</td>\n",
       "      <td>0</td>\n",
       "      <td>...</td>\n",
       "      <td>0</td>\n",
       "      <td>0</td>\n",
       "      <td>0</td>\n",
       "      <td>0</td>\n",
       "      <td>0</td>\n",
       "      <td>0</td>\n",
       "      <td>0</td>\n",
       "      <td>0</td>\n",
       "      <td>0</td>\n",
       "      <td>0</td>\n",
       "    </tr>\n",
       "    <tr>\n",
       "      <th>1</th>\n",
       "      <td>1</td>\n",
       "      <td>0</td>\n",
       "      <td>!!!!! RT @mleew17: boy dats cold...tyga dwn ba...</td>\n",
       "      <td>['boy', 'dats', 'cold', '...', 'tyga', 'dwn', ...</td>\n",
       "      <td>['boy', 'dat', 'cold', '...', 'tyga', 'dwn', '...</td>\n",
       "      <td>0</td>\n",
       "      <td>0</td>\n",
       "      <td>0</td>\n",
       "      <td>0</td>\n",
       "      <td>0</td>\n",
       "      <td>...</td>\n",
       "      <td>0</td>\n",
       "      <td>0</td>\n",
       "      <td>0</td>\n",
       "      <td>0</td>\n",
       "      <td>0</td>\n",
       "      <td>0</td>\n",
       "      <td>0</td>\n",
       "      <td>0</td>\n",
       "      <td>0</td>\n",
       "      <td>0</td>\n",
       "    </tr>\n",
       "    <tr>\n",
       "      <th>2</th>\n",
       "      <td>2</td>\n",
       "      <td>0</td>\n",
       "      <td>!!!!!!! RT @UrKindOfBrand Dawg!!!! RT @80sbaby...</td>\n",
       "      <td>['dawg', 'ever', 'fuck', 'bitch', 'start', 'cr...</td>\n",
       "      <td>['dawg', 'ever', 'fuck', 'bitch', 'start', 'cr...</td>\n",
       "      <td>1</td>\n",
       "      <td>0</td>\n",
       "      <td>1</td>\n",
       "      <td>0</td>\n",
       "      <td>0</td>\n",
       "      <td>...</td>\n",
       "      <td>0</td>\n",
       "      <td>0</td>\n",
       "      <td>0</td>\n",
       "      <td>0</td>\n",
       "      <td>0</td>\n",
       "      <td>0</td>\n",
       "      <td>0</td>\n",
       "      <td>0</td>\n",
       "      <td>0</td>\n",
       "      <td>0</td>\n",
       "    </tr>\n",
       "    <tr>\n",
       "      <th>3</th>\n",
       "      <td>3</td>\n",
       "      <td>0</td>\n",
       "      <td>!!!!!!!!! RT @C_G_Anderson: @viva_based she lo...</td>\n",
       "      <td>['_g_anderson', '_based', 'look', 'like', 'tra...</td>\n",
       "      <td>['_g_anderson', '_base', 'look', 'like', 'tran...</td>\n",
       "      <td>0</td>\n",
       "      <td>0</td>\n",
       "      <td>0</td>\n",
       "      <td>0</td>\n",
       "      <td>0</td>\n",
       "      <td>...</td>\n",
       "      <td>0</td>\n",
       "      <td>0</td>\n",
       "      <td>0</td>\n",
       "      <td>0</td>\n",
       "      <td>0</td>\n",
       "      <td>0</td>\n",
       "      <td>0</td>\n",
       "      <td>0</td>\n",
       "      <td>0</td>\n",
       "      <td>0</td>\n",
       "    </tr>\n",
       "    <tr>\n",
       "      <th>4</th>\n",
       "      <td>4</td>\n",
       "      <td>0</td>\n",
       "      <td>!!!!!!!!!!!!! RT @ShenikaRoberts: The shit you...</td>\n",
       "      <td>['shit', 'hear', 'might', 'true', 'might', 'fa...</td>\n",
       "      <td>['shit', 'hear', 'might', 'true', 'might', 'fa...</td>\n",
       "      <td>1</td>\n",
       "      <td>0</td>\n",
       "      <td>0</td>\n",
       "      <td>0</td>\n",
       "      <td>0</td>\n",
       "      <td>...</td>\n",
       "      <td>0</td>\n",
       "      <td>0</td>\n",
       "      <td>0</td>\n",
       "      <td>0</td>\n",
       "      <td>0</td>\n",
       "      <td>0</td>\n",
       "      <td>0</td>\n",
       "      <td>0</td>\n",
       "      <td>0</td>\n",
       "      <td>0</td>\n",
       "    </tr>\n",
       "  </tbody>\n",
       "</table>\n",
       "<p>5 rows × 142 columns</p>\n",
       "</div>"
      ],
      "text/plain": [
       "   Unnamed: 0  class                                              tweet  \\\n",
       "0           0      1  !!! RT @mayasolovely: As a woman you shouldn't...   \n",
       "1           1      0  !!!!! RT @mleew17: boy dats cold...tyga dwn ba...   \n",
       "2           2      0  !!!!!!! RT @UrKindOfBrand Dawg!!!! RT @80sbaby...   \n",
       "3           3      0  !!!!!!!!! RT @C_G_Anderson: @viva_based she lo...   \n",
       "4           4      0  !!!!!!!!!!!!! RT @ShenikaRoberts: The shit you...   \n",
       "\n",
       "                                      processed_text  \\\n",
       "0  ['woman', 'complain', 'cleaning', 'house', 'ma...   \n",
       "1  ['boy', 'dats', 'cold', '...', 'tyga', 'dwn', ...   \n",
       "2  ['dawg', 'ever', 'fuck', 'bitch', 'start', 'cr...   \n",
       "3  ['_g_anderson', '_based', 'look', 'like', 'tra...   \n",
       "4  ['shit', 'hear', 'might', 'true', 'might', 'fa...   \n",
       "\n",
       "                                             stemmed  bitch  faggot  fuck  \\\n",
       "0  ['woman', 'complain', 'clean', 'hous', 'man', ...      0       0     0   \n",
       "1  ['boy', 'dat', 'cold', '...', 'tyga', 'dwn', '...      0       0     0   \n",
       "2  ['dawg', 'ever', 'fuck', 'bitch', 'start', 'cr...      1       0     1   \n",
       "3  ['_g_anderson', '_base', 'look', 'like', 'tran...      0       0     0   \n",
       "4  ['shit', 'hear', 'might', 'true', 'might', 'fa...      1       0     0   \n",
       "\n",
       "   nigga  nigger  ...  xxx  #sex  #xxx  blow  mother  drug  rap  sexi  lip  \\\n",
       "0      0       0  ...    0     0     0     0       0     0    0     0    0   \n",
       "1      0       0  ...    0     0     0     0       0     0    0     0    0   \n",
       "2      0       0  ...    0     0     0     0       0     0    0     0    0   \n",
       "3      0       0  ...    0     0     0     0       0     0    0     0    0   \n",
       "4      0       0  ...    0     0     0     0       0     0    0     0    0   \n",
       "\n",
       "   thick  \n",
       "0      0  \n",
       "1      0  \n",
       "2      0  \n",
       "3      0  \n",
       "4      0  \n",
       "\n",
       "[5 rows x 142 columns]"
      ]
     },
     "execution_count": 23,
     "metadata": {},
     "output_type": "execute_result"
    }
   ],
   "source": [
    "df.head()"
   ]
  },
  {
   "cell_type": "code",
   "execution_count": 24,
   "metadata": {},
   "outputs": [
    {
     "name": "stdout",
     "output_type": "stream",
     "text": [
      "['Unnamed: 0', 'class', 'tweet', 'processed_text', 'stemmed', 'bitch', 'faggot', 'fuck', 'nigga', 'nigger', 'ass', 'white', 'trash', 'fag', 'hoe', 'hate', 'retard', 'shit', 'pussi', 'call', 'black', 'kill', 'queer', 'stupid', 'gay', 'dyke', 'coon', 'racist', 'ugli', 'cunt', 'fuckin', 'tri', 'cracker', 'nig', 'smh', 'spic', 'niggah', 'fat', 'nicca', 'dick', 'work', 'beaner', 'mean', 'monkey', 'redneck', 'suck', 'die', 'jew', 'whitey', 'dumb', 'ghetto', 'bad', 'stfu', 'babi', 'teabagg', 'head', 'race', 'wetback', 'beat', 'lame', 'cri', '_jason', 'mad', 'hit', 'whore', 'negro', 'shoot', 'fight', 'cop', 'bruh', 'sorri', 'tcot', 'pick', 'asshol', 'rape', 'nigguh', 'sick', 'mom', 'sinc', 'mexican', 'problem', 'hood', 'broke', 'muslim', 'muzzi', 'gook', 'drop', 'hell', 'bag', 'chick', 'pop', 'homo', '_afc', 'high', 'punk', 'swear', 'pig', 'tranni', 'cut', 'throat', 'steal', 'thug', 'niggaz', 'throw', 'shot', 'leav', 'nasti', 'piss', 'polic', 'omg', 'ju', 'understand', 'red', 'israel', 'darki', 'ðŸ‘Š', 'money', 'wtf', 'tf', 'parti', 'weed', 'slap', 'booti', 'porn', 'thot', 'slut', 'mf', 'twat', 'nude', 'skinni', 'kno', 'sex', 'xxx', '#sex', '#xxx', 'blow', 'mother', 'drug', 'rap', 'sexi', 'lip', 'thick']\n"
     ]
    }
   ],
   "source": [
    "print(list(df.columns))"
   ]
  },
  {
   "cell_type": "code",
   "execution_count": 25,
   "metadata": {},
   "outputs": [],
   "source": [
    "df.to_csv('unigram3.csv')"
   ]
  },
  {
   "cell_type": "code",
   "execution_count": 26,
   "metadata": {},
   "outputs": [
    {
     "name": "stdout",
     "output_type": "stream",
     "text": [
      "faggot\n",
      "0    39750\n",
      "1      540\n",
      "Name: faggot, dtype: int64\n"
     ]
    }
   ],
   "source": [
    "df1= df.groupby('faggot')['faggot'].count()\n",
    "print(df1)"
   ]
  },
  {
   "cell_type": "code",
   "execution_count": 27,
   "metadata": {},
   "outputs": [],
   "source": [
    "# count_col(['dawg', 'ever', 'fuck', 'bitch', 'start'] )"
   ]
  },
  {
   "cell_type": "code",
   "execution_count": 28,
   "metadata": {},
   "outputs": [
    {
     "name": "stdout",
     "output_type": "stream",
     "text": [
      "['\"@Shun_stokes: My cousin said he share hoes with his brothers. He said sharing is caring and he love his brothers &#128514;\"']\n"
     ]
    }
   ],
   "source": [
    "print(df['tweet'].iloc[236:237].values)"
   ]
  },
  {
   "cell_type": "code",
   "execution_count": null,
   "metadata": {},
   "outputs": [],
   "source": []
  }
 ],
 "metadata": {
  "kernelspec": {
   "display_name": "Python 3",
   "language": "python",
   "name": "python3"
  },
  "language_info": {
   "codemirror_mode": {
    "name": "ipython",
    "version": 3
   },
   "file_extension": ".py",
   "mimetype": "text/x-python",
   "name": "python",
   "nbconvert_exporter": "python",
   "pygments_lexer": "ipython3",
   "version": "3.8.8"
  }
 },
 "nbformat": 4,
 "nbformat_minor": 2
}
