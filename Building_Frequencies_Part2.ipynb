{
 "cells": [
  {
   "cell_type": "code",
   "execution_count": 36,
   "id": "unique-russell",
   "metadata": {},
   "outputs": [],
   "source": [
    "import numpy as np\n",
    "import pandas as pd\n",
    "import matplotlib.pyplot as plt\n",
    "import re\n",
    "import string\n",
    "import nltk \n",
    "from nltk.corpus import stopwords\n",
    "from nltk.stem import PorterStemmer\n",
    "from nltk.tokenize import TweetTokenizer\n",
    "import ast"
   ]
  },
  {
   "cell_type": "code",
   "execution_count": 37,
   "id": "dirty-manner",
   "metadata": {},
   "outputs": [],
   "source": [
    "df = pd.read_csv('Stemmed_Data2.csv',index_col=0)"
   ]
  },
  {
   "cell_type": "code",
   "execution_count": 38,
   "id": "occupied-cooperative",
   "metadata": {},
   "outputs": [
    {
     "data": {
      "text/plain": [
       "0    20620\n",
       "1    13670\n",
       "Name: class, dtype: int64"
      ]
     },
     "execution_count": 38,
     "metadata": {},
     "output_type": "execute_result"
    }
   ],
   "source": [
    "df['class'].value_counts()"
   ]
  },
  {
   "cell_type": "code",
   "execution_count": 39,
   "id": "insured-peeing",
   "metadata": {},
   "outputs": [],
   "source": [
    "def build_freqs(tweets, ys):\n",
    "    yslist = np.squeeze(ys).tolist()\n",
    "    freqs_0 = {}\n",
    "    freqs_1 = {}\n",
    "    for y, tweet in zip(yslist, tweets):\n",
    "        for word in ast.literal_eval(tweet):\n",
    "            if y==0:\n",
    "                pair = word\n",
    "                if pair in freqs_0:\n",
    "                    freqs_0[pair] += 1\n",
    "                else:\n",
    "                    freqs_0[pair] = 1\n",
    "            else:\n",
    "                pair = word\n",
    "                if pair in freqs_1:\n",
    "                    freqs_1[pair] += 1\n",
    "                else:\n",
    "                    freqs_1[pair] = 1\n",
    "\n",
    "    return freqs_0,freqs_1"
   ]
  },
  {
   "cell_type": "code",
   "execution_count": 40,
   "id": "residential-acoustic",
   "metadata": {},
   "outputs": [],
   "source": [
    "freqs_0,freqs_1 = build_freqs(df['stemmed'].values, df['class'].values)"
   ]
  },
  {
   "cell_type": "code",
   "execution_count": 41,
   "id": "swiss-taxation",
   "metadata": {},
   "outputs": [],
   "source": [
    "sort_freq_0 = sorted(freqs_0.items(), key=lambda x: x[1], reverse=True)\n",
    "sort_freq_1 = sorted(freqs_1.items(), key=lambda x: x[1], reverse=True)"
   ]
  },
  {
   "cell_type": "code",
   "execution_count": 42,
   "id": "arbitrary-repeat",
   "metadata": {},
   "outputs": [
    {
     "name": "stdout",
     "output_type": "stream",
     "text": [
      "15116\n",
      "15694\n"
     ]
    }
   ],
   "source": [
    "print(len(sort_freq_0))\n",
    "print(len(sort_freq_1))"
   ]
  },
  {
   "cell_type": "code",
   "execution_count": 44,
   "id": "configured-soundtrack",
   "metadata": {},
   "outputs": [],
   "source": [
    "wordlist0 = [x for x,y in sort_freq_0]\n",
    "wordlist1 = [x for x,y in sort_freq_1]"
   ]
  },
  {
   "cell_type": "code",
   "execution_count": 45,
   "id": "institutional-queue",
   "metadata": {},
   "outputs": [],
   "source": [
    "unique1 = [(x,y) for x,y in sort_freq_0 if x not in wordlist1 and len(x)>1 and re.search('[a-zA-Z]', x)]\n",
    "unique2 = [(x,y) for x,y in sort_freq_1 if x not in wordlist0 and len(x)>1 and re.search('[a-zA-Z]', x)]"
   ]
  },
  {
   "cell_type": "code",
   "execution_count": 46,
   "id": "exposed-concept",
   "metadata": {},
   "outputs": [
    {
     "name": "stdout",
     "output_type": "stream",
     "text": [
      "8129\n",
      "8524\n"
     ]
    }
   ],
   "source": [
    "print(len(unique1))\n",
    "print(len(unique2))"
   ]
  },
  {
   "cell_type": "code",
   "execution_count": null,
   "id": "biblical-horizontal",
   "metadata": {},
   "outputs": [],
   "source": []
  },
  {
   "cell_type": "code",
   "execution_count": 47,
   "id": "objective-latitude",
   "metadata": {},
   "outputs": [],
   "source": [
    "hateful_list = [x for x,y in unique1]\n",
    "clean_list = [x for x,y in unique2]"
   ]
  },
  {
   "cell_type": "code",
   "execution_count": 48,
   "id": "competitive-hello",
   "metadata": {},
   "outputs": [],
   "source": [
    "combined = hateful_list[:150] + clean_list[:150]"
   ]
  },
  {
   "cell_type": "code",
   "execution_count": 49,
   "id": "julian-rabbit",
   "metadata": {},
   "outputs": [
    {
     "data": {
      "text/plain": [
       "300"
      ]
     },
     "execution_count": 49,
     "metadata": {},
     "output_type": "execute_result"
    }
   ],
   "source": [
    "len(combined)"
   ]
  },
  {
   "cell_type": "code",
   "execution_count": 50,
   "id": "compliant-speaking",
   "metadata": {},
   "outputs": [],
   "source": [
    "with open('combined_tweaked.txt', 'w') as f:\n",
    "    for item in combined:\n",
    "        f.write(\"%s\\n\" % item)"
   ]
  },
  {
   "cell_type": "code",
   "execution_count": null,
   "id": "comparative-gravity",
   "metadata": {},
   "outputs": [],
   "source": []
  }
 ],
 "metadata": {
  "kernelspec": {
   "display_name": "Python 3",
   "language": "python",
   "name": "python3"
  },
  "language_info": {
   "codemirror_mode": {
    "name": "ipython",
    "version": 3
   },
   "file_extension": ".py",
   "mimetype": "text/x-python",
   "name": "python",
   "nbconvert_exporter": "python",
   "pygments_lexer": "ipython3",
   "version": "3.8.8"
  }
 },
 "nbformat": 4,
 "nbformat_minor": 5
}
