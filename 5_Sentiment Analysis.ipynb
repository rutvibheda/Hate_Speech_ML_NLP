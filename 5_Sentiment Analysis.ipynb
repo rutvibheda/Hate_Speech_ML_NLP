{
 "cells": [
  {
   "cell_type": "code",
   "execution_count": 1,
   "metadata": {},
   "outputs": [
    {
     "data": {
      "text/html": [
       "<div>\n",
       "<style scoped>\n",
       "    .dataframe tbody tr th:only-of-type {\n",
       "        vertical-align: middle;\n",
       "    }\n",
       "\n",
       "    .dataframe tbody tr th {\n",
       "        vertical-align: top;\n",
       "    }\n",
       "\n",
       "    .dataframe thead th {\n",
       "        text-align: right;\n",
       "    }\n",
       "</style>\n",
       "<table border=\"1\" class=\"dataframe\">\n",
       "  <thead>\n",
       "    <tr style=\"text-align: right;\">\n",
       "      <th></th>\n",
       "      <th>Unnamed: 0</th>\n",
       "      <th>class</th>\n",
       "      <th>tweet</th>\n",
       "      <th>processed_text</th>\n",
       "      <th>stemmed</th>\n",
       "    </tr>\n",
       "  </thead>\n",
       "  <tbody>\n",
       "    <tr>\n",
       "      <th>40285</th>\n",
       "      <td>805995</td>\n",
       "      <td>1</td>\n",
       "      <td>enjoying the sun ony my balcony</td>\n",
       "      <td>['enjoying', 'sun', 'ony', 'balcony']</td>\n",
       "      <td>['enjoy', 'sun', 'oni', 'balconi']</td>\n",
       "    </tr>\n",
       "    <tr>\n",
       "      <th>40286</th>\n",
       "      <td>805996</td>\n",
       "      <td>1</td>\n",
       "      <td>I'VE GOT A (quite) TIDY ROOM!  yeah man. what'...</td>\n",
       "      <td>[\"i've\", 'got', 'quite', 'tidy', 'room', 'yeah...</td>\n",
       "      <td>[\"i'v\", 'got', 'quit', 'tidi', 'room', 'yeah',...</td>\n",
       "    </tr>\n",
       "    <tr>\n",
       "      <th>40287</th>\n",
       "      <td>805997</td>\n",
       "      <td>1</td>\n",
       "      <td>@karlee16 :o dont be silly gosh</td>\n",
       "      <td>['dont', 'silly', 'gosh']</td>\n",
       "      <td>['dont', 'silli', 'gosh']</td>\n",
       "    </tr>\n",
       "    <tr>\n",
       "      <th>40288</th>\n",
       "      <td>805998</td>\n",
       "      <td>1</td>\n",
       "      <td>every office should have a linebacker  http://...</td>\n",
       "      <td>['every', 'office', 'linebacker']</td>\n",
       "      <td>['everi', 'offic', 'lineback']</td>\n",
       "    </tr>\n",
       "    <tr>\n",
       "      <th>40289</th>\n",
       "      <td>805999</td>\n",
       "      <td>1</td>\n",
       "      <td>@Davidptdf Omg David The Chat Was Amazing Last...</td>\n",
       "      <td>['omg', 'david', 'chat', 'amazing', 'last', 'n...</td>\n",
       "      <td>['omg', 'david', 'chat', 'amaz', 'last', 'nigh...</td>\n",
       "    </tr>\n",
       "  </tbody>\n",
       "</table>\n",
       "</div>"
      ],
      "text/plain": [
       "       Unnamed: 0  class                                              tweet  \\\n",
       "40285      805995      1                   enjoying the sun ony my balcony    \n",
       "40286      805996      1  I'VE GOT A (quite) TIDY ROOM!  yeah man. what'...   \n",
       "40287      805997      1                   @karlee16 :o dont be silly gosh    \n",
       "40288      805998      1  every office should have a linebacker  http://...   \n",
       "40289      805999      1  @Davidptdf Omg David The Chat Was Amazing Last...   \n",
       "\n",
       "                                          processed_text  \\\n",
       "40285              ['enjoying', 'sun', 'ony', 'balcony']   \n",
       "40286  [\"i've\", 'got', 'quite', 'tidy', 'room', 'yeah...   \n",
       "40287                          ['dont', 'silly', 'gosh']   \n",
       "40288                  ['every', 'office', 'linebacker']   \n",
       "40289  ['omg', 'david', 'chat', 'amazing', 'last', 'n...   \n",
       "\n",
       "                                                 stemmed  \n",
       "40285                 ['enjoy', 'sun', 'oni', 'balconi']  \n",
       "40286  [\"i'v\", 'got', 'quit', 'tidi', 'room', 'yeah',...  \n",
       "40287                          ['dont', 'silli', 'gosh']  \n",
       "40288                     ['everi', 'offic', 'lineback']  \n",
       "40289  ['omg', 'david', 'chat', 'amaz', 'last', 'nigh...  "
      ]
     },
     "execution_count": 1,
     "metadata": {},
     "output_type": "execute_result"
    }
   ],
   "source": [
    "from sentistrength import PySentiStr\n",
    "import pandas as pd\n",
    "\n",
    "senti = PySentiStr()\n",
    "senti.setSentiStrengthPath('C:/Users/femin/MP_Final/SentiStrength.jar') # Note: Provide absolute path instead of relative path\n",
    "senti.setSentiStrengthLanguageFolderPath('C:/Users/femin/MP_Final/SentiStrength/') # Note: Provide absolute path instead of relative path\n",
    "\n",
    "data = pd.read_csv('Stemmed_Data2.csv')\n",
    "data.tail()\n"
   ]
  },
  {
   "cell_type": "code",
   "execution_count": 2,
   "metadata": {},
   "outputs": [],
   "source": [
    "df1 = data['tweet']"
   ]
  },
  {
   "cell_type": "code",
   "execution_count": 3,
   "metadata": {},
   "outputs": [
    {
     "data": {
      "text/plain": [
       "0    !!! RT @mayasolovely: As a woman you shouldn't...\n",
       "1    !!!!! RT @mleew17: boy dats cold...tyga dwn ba...\n",
       "2    !!!!!!! RT @UrKindOfBrand Dawg!!!! RT @80sbaby...\n",
       "3    !!!!!!!!! RT @C_G_Anderson: @viva_based she lo...\n",
       "4    !!!!!!!!!!!!! RT @ShenikaRoberts: The shit you...\n",
       "Name: tweet, dtype: object"
      ]
     },
     "execution_count": 3,
     "metadata": {},
     "output_type": "execute_result"
    }
   ],
   "source": [
    "df1.head()"
   ]
  },
  {
   "cell_type": "code",
   "execution_count": 4,
   "metadata": {},
   "outputs": [],
   "source": [
    "arr = df1.to_numpy()"
   ]
  },
  {
   "cell_type": "code",
   "execution_count": 5,
   "metadata": {},
   "outputs": [
    {
     "name": "stdout",
     "output_type": "stream",
     "text": [
      "enjoying the sun ony my balcony \n"
     ]
    }
   ],
   "source": [
    "print(arr[-5])"
   ]
  },
  {
   "cell_type": "code",
   "execution_count": 6,
   "metadata": {},
   "outputs": [],
   "source": [
    "scale = senti.getSentiment(arr, score = 'scale')\n",
    "dual = senti.getSentiment(arr, score = 'dual')\n",
    "binary = senti.getSentiment(arr, score = 'binary')\n"
   ]
  },
  {
   "cell_type": "code",
   "execution_count": 7,
   "metadata": {},
   "outputs": [],
   "source": [
    "data[['Pos','Neg']] =  pd.DataFrame(dual,columns=['Pos','Neg'])\n"
   ]
  },
  {
   "cell_type": "code",
   "execution_count": 8,
   "metadata": {},
   "outputs": [
    {
     "data": {
      "text/html": [
       "<div>\n",
       "<style scoped>\n",
       "    .dataframe tbody tr th:only-of-type {\n",
       "        vertical-align: middle;\n",
       "    }\n",
       "\n",
       "    .dataframe tbody tr th {\n",
       "        vertical-align: top;\n",
       "    }\n",
       "\n",
       "    .dataframe thead th {\n",
       "        text-align: right;\n",
       "    }\n",
       "</style>\n",
       "<table border=\"1\" class=\"dataframe\">\n",
       "  <thead>\n",
       "    <tr style=\"text-align: right;\">\n",
       "      <th></th>\n",
       "      <th>Unnamed: 0</th>\n",
       "      <th>class</th>\n",
       "      <th>tweet</th>\n",
       "      <th>processed_text</th>\n",
       "      <th>stemmed</th>\n",
       "      <th>Pos</th>\n",
       "      <th>Neg</th>\n",
       "    </tr>\n",
       "  </thead>\n",
       "  <tbody>\n",
       "    <tr>\n",
       "      <th>40285</th>\n",
       "      <td>805995</td>\n",
       "      <td>1</td>\n",
       "      <td>enjoying the sun ony my balcony</td>\n",
       "      <td>['enjoying', 'sun', 'ony', 'balcony']</td>\n",
       "      <td>['enjoy', 'sun', 'oni', 'balconi']</td>\n",
       "      <td>3</td>\n",
       "      <td>-1</td>\n",
       "    </tr>\n",
       "    <tr>\n",
       "      <th>40286</th>\n",
       "      <td>805996</td>\n",
       "      <td>1</td>\n",
       "      <td>I'VE GOT A (quite) TIDY ROOM!  yeah man. what'...</td>\n",
       "      <td>[\"i've\", 'got', 'quite', 'tidy', 'room', 'yeah...</td>\n",
       "      <td>[\"i'v\", 'got', 'quit', 'tidi', 'room', 'yeah',...</td>\n",
       "      <td>2</td>\n",
       "      <td>-1</td>\n",
       "    </tr>\n",
       "    <tr>\n",
       "      <th>40287</th>\n",
       "      <td>805997</td>\n",
       "      <td>1</td>\n",
       "      <td>@karlee16 :o dont be silly gosh</td>\n",
       "      <td>['dont', 'silly', 'gosh']</td>\n",
       "      <td>['dont', 'silli', 'gosh']</td>\n",
       "      <td>1</td>\n",
       "      <td>-2</td>\n",
       "    </tr>\n",
       "    <tr>\n",
       "      <th>40288</th>\n",
       "      <td>805998</td>\n",
       "      <td>1</td>\n",
       "      <td>every office should have a linebacker  http://...</td>\n",
       "      <td>['every', 'office', 'linebacker']</td>\n",
       "      <td>['everi', 'offic', 'lineback']</td>\n",
       "      <td>1</td>\n",
       "      <td>-1</td>\n",
       "    </tr>\n",
       "    <tr>\n",
       "      <th>40289</th>\n",
       "      <td>805999</td>\n",
       "      <td>1</td>\n",
       "      <td>@Davidptdf Omg David The Chat Was Amazing Last...</td>\n",
       "      <td>['omg', 'david', 'chat', 'amazing', 'last', 'n...</td>\n",
       "      <td>['omg', 'david', 'chat', 'amaz', 'last', 'nigh...</td>\n",
       "      <td>3</td>\n",
       "      <td>-1</td>\n",
       "    </tr>\n",
       "  </tbody>\n",
       "</table>\n",
       "</div>"
      ],
      "text/plain": [
       "       Unnamed: 0  class                                              tweet  \\\n",
       "40285      805995      1                   enjoying the sun ony my balcony    \n",
       "40286      805996      1  I'VE GOT A (quite) TIDY ROOM!  yeah man. what'...   \n",
       "40287      805997      1                   @karlee16 :o dont be silly gosh    \n",
       "40288      805998      1  every office should have a linebacker  http://...   \n",
       "40289      805999      1  @Davidptdf Omg David The Chat Was Amazing Last...   \n",
       "\n",
       "                                          processed_text  \\\n",
       "40285              ['enjoying', 'sun', 'ony', 'balcony']   \n",
       "40286  [\"i've\", 'got', 'quite', 'tidy', 'room', 'yeah...   \n",
       "40287                          ['dont', 'silly', 'gosh']   \n",
       "40288                  ['every', 'office', 'linebacker']   \n",
       "40289  ['omg', 'david', 'chat', 'amazing', 'last', 'n...   \n",
       "\n",
       "                                                 stemmed  Pos  Neg  \n",
       "40285                 ['enjoy', 'sun', 'oni', 'balconi']    3   -1  \n",
       "40286  [\"i'v\", 'got', 'quit', 'tidi', 'room', 'yeah',...    2   -1  \n",
       "40287                          ['dont', 'silli', 'gosh']    1   -2  \n",
       "40288                     ['everi', 'offic', 'lineback']    1   -1  \n",
       "40289  ['omg', 'david', 'chat', 'amaz', 'last', 'nigh...    3   -1  "
      ]
     },
     "execution_count": 8,
     "metadata": {},
     "output_type": "execute_result"
    }
   ],
   "source": [
    "data.tail()"
   ]
  },
  {
   "cell_type": "code",
   "execution_count": 9,
   "metadata": {},
   "outputs": [
    {
     "data": {
      "text/html": [
       "<div>\n",
       "<style scoped>\n",
       "    .dataframe tbody tr th:only-of-type {\n",
       "        vertical-align: middle;\n",
       "    }\n",
       "\n",
       "    .dataframe tbody tr th {\n",
       "        vertical-align: top;\n",
       "    }\n",
       "\n",
       "    .dataframe thead th {\n",
       "        text-align: right;\n",
       "    }\n",
       "</style>\n",
       "<table border=\"1\" class=\"dataframe\">\n",
       "  <thead>\n",
       "    <tr style=\"text-align: right;\">\n",
       "      <th></th>\n",
       "      <th>Unnamed: 0</th>\n",
       "      <th>class</th>\n",
       "      <th>tweet</th>\n",
       "      <th>processed_text</th>\n",
       "      <th>stemmed</th>\n",
       "      <th>Pos</th>\n",
       "      <th>Neg</th>\n",
       "      <th>scale</th>\n",
       "      <th>binary</th>\n",
       "    </tr>\n",
       "  </thead>\n",
       "  <tbody>\n",
       "    <tr>\n",
       "      <th>40285</th>\n",
       "      <td>805995</td>\n",
       "      <td>1</td>\n",
       "      <td>enjoying the sun ony my balcony</td>\n",
       "      <td>['enjoying', 'sun', 'ony', 'balcony']</td>\n",
       "      <td>['enjoy', 'sun', 'oni', 'balconi']</td>\n",
       "      <td>3</td>\n",
       "      <td>-1</td>\n",
       "      <td>2</td>\n",
       "      <td>1</td>\n",
       "    </tr>\n",
       "    <tr>\n",
       "      <th>40286</th>\n",
       "      <td>805996</td>\n",
       "      <td>1</td>\n",
       "      <td>I'VE GOT A (quite) TIDY ROOM!  yeah man. what'...</td>\n",
       "      <td>[\"i've\", 'got', 'quite', 'tidy', 'room', 'yeah...</td>\n",
       "      <td>[\"i'v\", 'got', 'quit', 'tidi', 'room', 'yeah',...</td>\n",
       "      <td>2</td>\n",
       "      <td>-1</td>\n",
       "      <td>1</td>\n",
       "      <td>1</td>\n",
       "    </tr>\n",
       "    <tr>\n",
       "      <th>40287</th>\n",
       "      <td>805997</td>\n",
       "      <td>1</td>\n",
       "      <td>@karlee16 :o dont be silly gosh</td>\n",
       "      <td>['dont', 'silly', 'gosh']</td>\n",
       "      <td>['dont', 'silli', 'gosh']</td>\n",
       "      <td>1</td>\n",
       "      <td>-2</td>\n",
       "      <td>-1</td>\n",
       "      <td>-1</td>\n",
       "    </tr>\n",
       "    <tr>\n",
       "      <th>40288</th>\n",
       "      <td>805998</td>\n",
       "      <td>1</td>\n",
       "      <td>every office should have a linebacker  http://...</td>\n",
       "      <td>['every', 'office', 'linebacker']</td>\n",
       "      <td>['everi', 'offic', 'lineback']</td>\n",
       "      <td>1</td>\n",
       "      <td>-1</td>\n",
       "      <td>0</td>\n",
       "      <td>1</td>\n",
       "    </tr>\n",
       "    <tr>\n",
       "      <th>40289</th>\n",
       "      <td>805999</td>\n",
       "      <td>1</td>\n",
       "      <td>@Davidptdf Omg David The Chat Was Amazing Last...</td>\n",
       "      <td>['omg', 'david', 'chat', 'amazing', 'last', 'n...</td>\n",
       "      <td>['omg', 'david', 'chat', 'amaz', 'last', 'nigh...</td>\n",
       "      <td>3</td>\n",
       "      <td>-1</td>\n",
       "      <td>2</td>\n",
       "      <td>1</td>\n",
       "    </tr>\n",
       "  </tbody>\n",
       "</table>\n",
       "</div>"
      ],
      "text/plain": [
       "       Unnamed: 0  class                                              tweet  \\\n",
       "40285      805995      1                   enjoying the sun ony my balcony    \n",
       "40286      805996      1  I'VE GOT A (quite) TIDY ROOM!  yeah man. what'...   \n",
       "40287      805997      1                   @karlee16 :o dont be silly gosh    \n",
       "40288      805998      1  every office should have a linebacker  http://...   \n",
       "40289      805999      1  @Davidptdf Omg David The Chat Was Amazing Last...   \n",
       "\n",
       "                                          processed_text  \\\n",
       "40285              ['enjoying', 'sun', 'ony', 'balcony']   \n",
       "40286  [\"i've\", 'got', 'quite', 'tidy', 'room', 'yeah...   \n",
       "40287                          ['dont', 'silly', 'gosh']   \n",
       "40288                  ['every', 'office', 'linebacker']   \n",
       "40289  ['omg', 'david', 'chat', 'amazing', 'last', 'n...   \n",
       "\n",
       "                                                 stemmed  Pos  Neg  scale  \\\n",
       "40285                 ['enjoy', 'sun', 'oni', 'balconi']    3   -1      2   \n",
       "40286  [\"i'v\", 'got', 'quit', 'tidi', 'room', 'yeah',...    2   -1      1   \n",
       "40287                          ['dont', 'silli', 'gosh']    1   -2     -1   \n",
       "40288                     ['everi', 'offic', 'lineback']    1   -1      0   \n",
       "40289  ['omg', 'david', 'chat', 'amaz', 'last', 'nigh...    3   -1      2   \n",
       "\n",
       "       binary  \n",
       "40285       1  \n",
       "40286       1  \n",
       "40287      -1  \n",
       "40288       1  \n",
       "40289       1  "
      ]
     },
     "execution_count": 9,
     "metadata": {},
     "output_type": "execute_result"
    }
   ],
   "source": [
    "\n",
    "\n",
    "data[\"scale\"]= pd.DataFrame(scale)\n",
    "data[\"binary\"]= pd.DataFrame(binary)\n",
    "data.tail()"
   ]
  },
  {
   "cell_type": "code",
   "execution_count": 10,
   "metadata": {},
   "outputs": [],
   "source": [
    "# Dnew = pd.concat([data, data['scale'], data['dual'], data['bin']], axis=1)\n"
   ]
  },
  {
   "cell_type": "code",
   "execution_count": 11,
   "metadata": {},
   "outputs": [],
   "source": [
    "# Dnew.head()\n"
   ]
  },
  {
   "cell_type": "code",
   "execution_count": 12,
   "metadata": {},
   "outputs": [
    {
     "data": {
      "text/html": [
       "<div>\n",
       "<style scoped>\n",
       "    .dataframe tbody tr th:only-of-type {\n",
       "        vertical-align: middle;\n",
       "    }\n",
       "\n",
       "    .dataframe tbody tr th {\n",
       "        vertical-align: top;\n",
       "    }\n",
       "\n",
       "    .dataframe thead th {\n",
       "        text-align: right;\n",
       "    }\n",
       "</style>\n",
       "<table border=\"1\" class=\"dataframe\">\n",
       "  <thead>\n",
       "    <tr style=\"text-align: right;\">\n",
       "      <th></th>\n",
       "      <th>Unnamed: 0</th>\n",
       "      <th>class</th>\n",
       "      <th>tweet</th>\n",
       "      <th>processed_text</th>\n",
       "      <th>stemmed</th>\n",
       "      <th>Pos</th>\n",
       "      <th>Neg</th>\n",
       "      <th>scale</th>\n",
       "      <th>binary</th>\n",
       "    </tr>\n",
       "  </thead>\n",
       "  <tbody>\n",
       "    <tr>\n",
       "      <th>0</th>\n",
       "      <td>0</td>\n",
       "      <td>1</td>\n",
       "      <td>!!! RT @mayasolovely: As a woman you shouldn't...</td>\n",
       "      <td>['woman', 'complain', 'cleaning', 'house', 'ma...</td>\n",
       "      <td>['woman', 'complain', 'clean', 'hous', 'man', ...</td>\n",
       "      <td>1</td>\n",
       "      <td>-2</td>\n",
       "      <td>-1</td>\n",
       "      <td>-1</td>\n",
       "    </tr>\n",
       "    <tr>\n",
       "      <th>1</th>\n",
       "      <td>1</td>\n",
       "      <td>0</td>\n",
       "      <td>!!!!! RT @mleew17: boy dats cold...tyga dwn ba...</td>\n",
       "      <td>['boy', 'dats', 'cold', '...', 'tyga', 'dwn', ...</td>\n",
       "      <td>['boy', 'dat', 'cold', '...', 'tyga', 'dwn', '...</td>\n",
       "      <td>1</td>\n",
       "      <td>-3</td>\n",
       "      <td>-2</td>\n",
       "      <td>-1</td>\n",
       "    </tr>\n",
       "    <tr>\n",
       "      <th>2</th>\n",
       "      <td>2</td>\n",
       "      <td>0</td>\n",
       "      <td>!!!!!!! RT @UrKindOfBrand Dawg!!!! RT @80sbaby...</td>\n",
       "      <td>['dawg', 'ever', 'fuck', 'bitch', 'start', 'cr...</td>\n",
       "      <td>['dawg', 'ever', 'fuck', 'bitch', 'start', 'cr...</td>\n",
       "      <td>2</td>\n",
       "      <td>-4</td>\n",
       "      <td>-2</td>\n",
       "      <td>-1</td>\n",
       "    </tr>\n",
       "    <tr>\n",
       "      <th>3</th>\n",
       "      <td>3</td>\n",
       "      <td>0</td>\n",
       "      <td>!!!!!!!!! RT @C_G_Anderson: @viva_based she lo...</td>\n",
       "      <td>['_g_anderson', '_based', 'look', 'like', 'tra...</td>\n",
       "      <td>['_g_anderson', '_base', 'look', 'like', 'tran...</td>\n",
       "      <td>2</td>\n",
       "      <td>-1</td>\n",
       "      <td>1</td>\n",
       "      <td>1</td>\n",
       "    </tr>\n",
       "    <tr>\n",
       "      <th>4</th>\n",
       "      <td>4</td>\n",
       "      <td>0</td>\n",
       "      <td>!!!!!!!!!!!!! RT @ShenikaRoberts: The shit you...</td>\n",
       "      <td>['shit', 'hear', 'might', 'true', 'might', 'fa...</td>\n",
       "      <td>['shit', 'hear', 'might', 'true', 'might', 'fa...</td>\n",
       "      <td>2</td>\n",
       "      <td>-2</td>\n",
       "      <td>0</td>\n",
       "      <td>1</td>\n",
       "    </tr>\n",
       "  </tbody>\n",
       "</table>\n",
       "</div>"
      ],
      "text/plain": [
       "   Unnamed: 0  class                                              tweet  \\\n",
       "0           0      1  !!! RT @mayasolovely: As a woman you shouldn't...   \n",
       "1           1      0  !!!!! RT @mleew17: boy dats cold...tyga dwn ba...   \n",
       "2           2      0  !!!!!!! RT @UrKindOfBrand Dawg!!!! RT @80sbaby...   \n",
       "3           3      0  !!!!!!!!! RT @C_G_Anderson: @viva_based she lo...   \n",
       "4           4      0  !!!!!!!!!!!!! RT @ShenikaRoberts: The shit you...   \n",
       "\n",
       "                                      processed_text  \\\n",
       "0  ['woman', 'complain', 'cleaning', 'house', 'ma...   \n",
       "1  ['boy', 'dats', 'cold', '...', 'tyga', 'dwn', ...   \n",
       "2  ['dawg', 'ever', 'fuck', 'bitch', 'start', 'cr...   \n",
       "3  ['_g_anderson', '_based', 'look', 'like', 'tra...   \n",
       "4  ['shit', 'hear', 'might', 'true', 'might', 'fa...   \n",
       "\n",
       "                                             stemmed  Pos  Neg  scale  binary  \n",
       "0  ['woman', 'complain', 'clean', 'hous', 'man', ...    1   -2     -1      -1  \n",
       "1  ['boy', 'dat', 'cold', '...', 'tyga', 'dwn', '...    1   -3     -2      -1  \n",
       "2  ['dawg', 'ever', 'fuck', 'bitch', 'start', 'cr...    2   -4     -2      -1  \n",
       "3  ['_g_anderson', '_base', 'look', 'like', 'tran...    2   -1      1       1  \n",
       "4  ['shit', 'hear', 'might', 'true', 'might', 'fa...    2   -2      0       1  "
      ]
     },
     "execution_count": 12,
     "metadata": {},
     "output_type": "execute_result"
    }
   ],
   "source": [
    "# data = data.drop('binary',axis=1)\n",
    "# data[\"binary\"]= pd.DataFrame(binary)\n",
    "data.head()"
   ]
  },
  {
   "cell_type": "code",
   "execution_count": 13,
   "metadata": {},
   "outputs": [
    {
     "data": {
      "text/plain": [
       "(40290, 9)"
      ]
     },
     "execution_count": 13,
     "metadata": {},
     "output_type": "execute_result"
    }
   ],
   "source": [
    "data.shape"
   ]
  },
  {
   "cell_type": "code",
   "execution_count": 14,
   "metadata": {},
   "outputs": [],
   "source": [
    "data.to_csv('sentistrength.csv')"
   ]
  },
  {
   "cell_type": "code",
   "execution_count": null,
   "metadata": {},
   "outputs": [],
   "source": [
    "def getScale(var):\n",
    "    score = senti.getSentiment(var, score = 'scale')\n",
    "    return score"
   ]
  },
  {
   "cell_type": "code",
   "execution_count": null,
   "metadata": {},
   "outputs": [],
   "source": [
    "data[\"scale\"]= data['tweet'].apply(getScale)"
   ]
  },
  {
   "cell_type": "code",
   "execution_count": null,
   "metadata": {},
   "outputs": [],
   "source": [
    "tweet = \"She is total bitch, She should die\"\n",
    "\n",
    "print(\"Postive,Negative:\",senti.getSentiment(tweet, score = 'dual'))\n",
    "print(\"Overall:\",senti.getSentiment(tweet, score = 'scale'))\n",
    "print(\"Binary:\",senti.getSentiment(tweet, score = 'binary'))"
   ]
  },
  {
   "cell_type": "code",
   "execution_count": null,
   "metadata": {},
   "outputs": [],
   "source": []
  }
 ],
 "metadata": {
  "kernelspec": {
   "display_name": "Python 3",
   "language": "python",
   "name": "python3"
  },
  "language_info": {
   "codemirror_mode": {
    "name": "ipython",
    "version": 3
   },
   "file_extension": ".py",
   "mimetype": "text/x-python",
   "name": "python",
   "nbconvert_exporter": "python",
   "pygments_lexer": "ipython3",
   "version": "3.8.8"
  }
 },
 "nbformat": 4,
 "nbformat_minor": 4
}
