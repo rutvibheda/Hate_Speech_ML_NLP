{
 "cells": [
  {
   "cell_type": "code",
   "execution_count": 2,
   "metadata": {},
   "outputs": [],
   "source": [
    "import numpy as np\n",
    "import pandas as pd\n",
    "import matplotlib.pyplot as plt\n",
    "import re\n",
    "import string\n",
    "import scipy as sp\n",
    "import seaborn as sns\n",
    "import time\n",
    "%matplotlib inline\n",
    "\n",
    "import pickle"
   ]
  },
  {
   "cell_type": "code",
   "execution_count": 3,
   "metadata": {},
   "outputs": [],
   "source": [
    "from sklearn import preprocessing\n",
    "from sklearn.preprocessing import MinMaxScaler,StandardScaler\n",
    "scaler = StandardScaler()\n",
    "minmax = MinMaxScaler()"
   ]
  },
  {
   "cell_type": "code",
   "execution_count": 4,
   "metadata": {},
   "outputs": [],
   "source": [
    "data = pd.read_csv('final_dataset3.csv',index_col=0)\n",
    "# data2 = pd.read_csv('final_dataset2.csv',index_col=0)\n",
    "# data['count'] = data2['count']\n",
    "# data['class'] = data['class'].replace([0],1)"
   ]
  },
  {
   "cell_type": "code",
   "execution_count": 5,
   "metadata": {},
   "outputs": [
    {
     "data": {
      "text/html": [
       "<div>\n",
       "<style scoped>\n",
       "    .dataframe tbody tr th:only-of-type {\n",
       "        vertical-align: middle;\n",
       "    }\n",
       "\n",
       "    .dataframe tbody tr th {\n",
       "        vertical-align: top;\n",
       "    }\n",
       "\n",
       "    .dataframe thead th {\n",
       "        text-align: right;\n",
       "    }\n",
       "</style>\n",
       "<table border=\"1\" class=\"dataframe\">\n",
       "  <thead>\n",
       "    <tr style=\"text-align: right;\">\n",
       "      <th></th>\n",
       "      <th>class</th>\n",
       "      <th>scale</th>\n",
       "      <th>Pos</th>\n",
       "      <th>Neg</th>\n",
       "      <th>binary</th>\n",
       "      <th>QuestionMarkCount</th>\n",
       "      <th>QuotationMarkCount</th>\n",
       "      <th>ExclamationMarkCount</th>\n",
       "      <th>AllCapitalised</th>\n",
       "      <th>bitch</th>\n",
       "      <th>...</th>\n",
       "      <th>xxx</th>\n",
       "      <th>#sex</th>\n",
       "      <th>#xxx</th>\n",
       "      <th>blow</th>\n",
       "      <th>mother</th>\n",
       "      <th>drug</th>\n",
       "      <th>rap</th>\n",
       "      <th>sexi</th>\n",
       "      <th>lip</th>\n",
       "      <th>thick</th>\n",
       "    </tr>\n",
       "  </thead>\n",
       "  <tbody>\n",
       "    <tr>\n",
       "      <th>0</th>\n",
       "      <td>1</td>\n",
       "      <td>-1</td>\n",
       "      <td>1</td>\n",
       "      <td>-2</td>\n",
       "      <td>-1</td>\n",
       "      <td>0</td>\n",
       "      <td>1</td>\n",
       "      <td>0</td>\n",
       "      <td>0</td>\n",
       "      <td>0</td>\n",
       "      <td>...</td>\n",
       "      <td>0</td>\n",
       "      <td>0</td>\n",
       "      <td>0</td>\n",
       "      <td>0</td>\n",
       "      <td>0</td>\n",
       "      <td>0</td>\n",
       "      <td>0</td>\n",
       "      <td>0</td>\n",
       "      <td>0</td>\n",
       "      <td>0</td>\n",
       "    </tr>\n",
       "    <tr>\n",
       "      <th>1</th>\n",
       "      <td>0</td>\n",
       "      <td>-2</td>\n",
       "      <td>1</td>\n",
       "      <td>-3</td>\n",
       "      <td>-1</td>\n",
       "      <td>0</td>\n",
       "      <td>0</td>\n",
       "      <td>2</td>\n",
       "      <td>0</td>\n",
       "      <td>0</td>\n",
       "      <td>...</td>\n",
       "      <td>0</td>\n",
       "      <td>0</td>\n",
       "      <td>0</td>\n",
       "      <td>0</td>\n",
       "      <td>0</td>\n",
       "      <td>0</td>\n",
       "      <td>0</td>\n",
       "      <td>0</td>\n",
       "      <td>0</td>\n",
       "      <td>0</td>\n",
       "    </tr>\n",
       "    <tr>\n",
       "      <th>2</th>\n",
       "      <td>0</td>\n",
       "      <td>-2</td>\n",
       "      <td>2</td>\n",
       "      <td>-4</td>\n",
       "      <td>-1</td>\n",
       "      <td>1</td>\n",
       "      <td>0</td>\n",
       "      <td>0</td>\n",
       "      <td>0</td>\n",
       "      <td>1</td>\n",
       "      <td>...</td>\n",
       "      <td>0</td>\n",
       "      <td>0</td>\n",
       "      <td>0</td>\n",
       "      <td>0</td>\n",
       "      <td>0</td>\n",
       "      <td>0</td>\n",
       "      <td>0</td>\n",
       "      <td>0</td>\n",
       "      <td>0</td>\n",
       "      <td>0</td>\n",
       "    </tr>\n",
       "    <tr>\n",
       "      <th>3</th>\n",
       "      <td>0</td>\n",
       "      <td>1</td>\n",
       "      <td>2</td>\n",
       "      <td>-1</td>\n",
       "      <td>1</td>\n",
       "      <td>0</td>\n",
       "      <td>0</td>\n",
       "      <td>0</td>\n",
       "      <td>0</td>\n",
       "      <td>0</td>\n",
       "      <td>...</td>\n",
       "      <td>0</td>\n",
       "      <td>0</td>\n",
       "      <td>0</td>\n",
       "      <td>0</td>\n",
       "      <td>0</td>\n",
       "      <td>0</td>\n",
       "      <td>0</td>\n",
       "      <td>0</td>\n",
       "      <td>0</td>\n",
       "      <td>0</td>\n",
       "    </tr>\n",
       "    <tr>\n",
       "      <th>4</th>\n",
       "      <td>0</td>\n",
       "      <td>0</td>\n",
       "      <td>2</td>\n",
       "      <td>-2</td>\n",
       "      <td>1</td>\n",
       "      <td>0</td>\n",
       "      <td>0</td>\n",
       "      <td>0</td>\n",
       "      <td>0</td>\n",
       "      <td>1</td>\n",
       "      <td>...</td>\n",
       "      <td>0</td>\n",
       "      <td>0</td>\n",
       "      <td>0</td>\n",
       "      <td>0</td>\n",
       "      <td>0</td>\n",
       "      <td>0</td>\n",
       "      <td>0</td>\n",
       "      <td>0</td>\n",
       "      <td>0</td>\n",
       "      <td>0</td>\n",
       "    </tr>\n",
       "    <tr>\n",
       "      <th>...</th>\n",
       "      <td>...</td>\n",
       "      <td>...</td>\n",
       "      <td>...</td>\n",
       "      <td>...</td>\n",
       "      <td>...</td>\n",
       "      <td>...</td>\n",
       "      <td>...</td>\n",
       "      <td>...</td>\n",
       "      <td>...</td>\n",
       "      <td>...</td>\n",
       "      <td>...</td>\n",
       "      <td>...</td>\n",
       "      <td>...</td>\n",
       "      <td>...</td>\n",
       "      <td>...</td>\n",
       "      <td>...</td>\n",
       "      <td>...</td>\n",
       "      <td>...</td>\n",
       "      <td>...</td>\n",
       "      <td>...</td>\n",
       "      <td>...</td>\n",
       "    </tr>\n",
       "    <tr>\n",
       "      <th>95</th>\n",
       "      <td>0</td>\n",
       "      <td>-1</td>\n",
       "      <td>1</td>\n",
       "      <td>-2</td>\n",
       "      <td>-1</td>\n",
       "      <td>0</td>\n",
       "      <td>0</td>\n",
       "      <td>0</td>\n",
       "      <td>0</td>\n",
       "      <td>0</td>\n",
       "      <td>...</td>\n",
       "      <td>0</td>\n",
       "      <td>0</td>\n",
       "      <td>0</td>\n",
       "      <td>0</td>\n",
       "      <td>0</td>\n",
       "      <td>0</td>\n",
       "      <td>0</td>\n",
       "      <td>0</td>\n",
       "      <td>0</td>\n",
       "      <td>0</td>\n",
       "    </tr>\n",
       "    <tr>\n",
       "      <th>96</th>\n",
       "      <td>0</td>\n",
       "      <td>-2</td>\n",
       "      <td>1</td>\n",
       "      <td>-3</td>\n",
       "      <td>-1</td>\n",
       "      <td>0</td>\n",
       "      <td>0</td>\n",
       "      <td>0</td>\n",
       "      <td>0</td>\n",
       "      <td>1</td>\n",
       "      <td>...</td>\n",
       "      <td>0</td>\n",
       "      <td>0</td>\n",
       "      <td>0</td>\n",
       "      <td>0</td>\n",
       "      <td>0</td>\n",
       "      <td>0</td>\n",
       "      <td>0</td>\n",
       "      <td>0</td>\n",
       "      <td>0</td>\n",
       "      <td>0</td>\n",
       "    </tr>\n",
       "    <tr>\n",
       "      <th>97</th>\n",
       "      <td>0</td>\n",
       "      <td>-1</td>\n",
       "      <td>1</td>\n",
       "      <td>-2</td>\n",
       "      <td>-1</td>\n",
       "      <td>0</td>\n",
       "      <td>0</td>\n",
       "      <td>0</td>\n",
       "      <td>0</td>\n",
       "      <td>0</td>\n",
       "      <td>...</td>\n",
       "      <td>0</td>\n",
       "      <td>0</td>\n",
       "      <td>0</td>\n",
       "      <td>0</td>\n",
       "      <td>0</td>\n",
       "      <td>0</td>\n",
       "      <td>0</td>\n",
       "      <td>0</td>\n",
       "      <td>0</td>\n",
       "      <td>0</td>\n",
       "    </tr>\n",
       "    <tr>\n",
       "      <th>98</th>\n",
       "      <td>0</td>\n",
       "      <td>1</td>\n",
       "      <td>2</td>\n",
       "      <td>-1</td>\n",
       "      <td>1</td>\n",
       "      <td>0</td>\n",
       "      <td>1</td>\n",
       "      <td>0</td>\n",
       "      <td>0</td>\n",
       "      <td>0</td>\n",
       "      <td>...</td>\n",
       "      <td>0</td>\n",
       "      <td>0</td>\n",
       "      <td>0</td>\n",
       "      <td>0</td>\n",
       "      <td>0</td>\n",
       "      <td>0</td>\n",
       "      <td>0</td>\n",
       "      <td>0</td>\n",
       "      <td>0</td>\n",
       "      <td>0</td>\n",
       "    </tr>\n",
       "    <tr>\n",
       "      <th>99</th>\n",
       "      <td>0</td>\n",
       "      <td>1</td>\n",
       "      <td>2</td>\n",
       "      <td>-1</td>\n",
       "      <td>1</td>\n",
       "      <td>0</td>\n",
       "      <td>0</td>\n",
       "      <td>4</td>\n",
       "      <td>0</td>\n",
       "      <td>0</td>\n",
       "      <td>...</td>\n",
       "      <td>0</td>\n",
       "      <td>0</td>\n",
       "      <td>0</td>\n",
       "      <td>0</td>\n",
       "      <td>0</td>\n",
       "      <td>0</td>\n",
       "      <td>0</td>\n",
       "      <td>0</td>\n",
       "      <td>0</td>\n",
       "      <td>0</td>\n",
       "    </tr>\n",
       "  </tbody>\n",
       "</table>\n",
       "<p>100 rows × 146 columns</p>\n",
       "</div>"
      ],
      "text/plain": [
       "    class  scale  Pos  Neg  binary  QuestionMarkCount  QuotationMarkCount  \\\n",
       "0       1     -1    1   -2      -1                  0                   1   \n",
       "1       0     -2    1   -3      -1                  0                   0   \n",
       "2       0     -2    2   -4      -1                  1                   0   \n",
       "3       0      1    2   -1       1                  0                   0   \n",
       "4       0      0    2   -2       1                  0                   0   \n",
       "..    ...    ...  ...  ...     ...                ...                 ...   \n",
       "95      0     -1    1   -2      -1                  0                   0   \n",
       "96      0     -2    1   -3      -1                  0                   0   \n",
       "97      0     -1    1   -2      -1                  0                   0   \n",
       "98      0      1    2   -1       1                  0                   1   \n",
       "99      0      1    2   -1       1                  0                   0   \n",
       "\n",
       "    ExclamationMarkCount  AllCapitalised  bitch  ...  xxx  #sex  #xxx  blow  \\\n",
       "0                      0               0      0  ...    0     0     0     0   \n",
       "1                      2               0      0  ...    0     0     0     0   \n",
       "2                      0               0      1  ...    0     0     0     0   \n",
       "3                      0               0      0  ...    0     0     0     0   \n",
       "4                      0               0      1  ...    0     0     0     0   \n",
       "..                   ...             ...    ...  ...  ...   ...   ...   ...   \n",
       "95                     0               0      0  ...    0     0     0     0   \n",
       "96                     0               0      1  ...    0     0     0     0   \n",
       "97                     0               0      0  ...    0     0     0     0   \n",
       "98                     0               0      0  ...    0     0     0     0   \n",
       "99                     4               0      0  ...    0     0     0     0   \n",
       "\n",
       "    mother  drug  rap  sexi  lip  thick  \n",
       "0        0     0    0     0    0      0  \n",
       "1        0     0    0     0    0      0  \n",
       "2        0     0    0     0    0      0  \n",
       "3        0     0    0     0    0      0  \n",
       "4        0     0    0     0    0      0  \n",
       "..     ...   ...  ...   ...  ...    ...  \n",
       "95       0     0    0     0    0      0  \n",
       "96       0     0    0     0    0      0  \n",
       "97       0     0    0     0    0      0  \n",
       "98       0     0    0     0    0      0  \n",
       "99       0     0    0     0    0      0  \n",
       "\n",
       "[100 rows x 146 columns]"
      ]
     },
     "execution_count": 5,
     "metadata": {},
     "output_type": "execute_result"
    }
   ],
   "source": [
    "data.head(100)"
   ]
  },
  {
   "cell_type": "code",
   "execution_count": 6,
   "metadata": {},
   "outputs": [],
   "source": [
    "# data = data.drop(['Pos','Neg','binary'],axis=1)\n",
    "columns = data.columns"
   ]
  },
  {
   "cell_type": "code",
   "execution_count": 7,
   "metadata": {},
   "outputs": [
    {
     "name": "stdout",
     "output_type": "stream",
     "text": [
      "Index(['class', 'scale', 'Pos', 'Neg', 'binary', 'QuestionMarkCount',\n",
      "       'QuotationMarkCount', 'ExclamationMarkCount', 'AllCapitalised', 'bitch',\n",
      "       ...\n",
      "       'xxx', '#sex', '#xxx', 'blow', 'mother', 'drug', 'rap', 'sexi', 'lip',\n",
      "       'thick'],\n",
      "      dtype='object', length=146)\n"
     ]
    }
   ],
   "source": [
    "print(columns)"
   ]
  },
  {
   "cell_type": "code",
   "execution_count": 8,
   "metadata": {},
   "outputs": [
    {
     "name": "stdout",
     "output_type": "stream",
     "text": [
      "   class  scale  Pos  Neg  binary  QuestionMarkCount  QuotationMarkCount  \\\n",
      "0      1     -1    1   -2      -1                  0                   1   \n",
      "1      0     -2    1   -3      -1                  0                   0   \n",
      "2      0     -2    2   -4      -1                  1                   0   \n",
      "3      0      1    2   -1       1                  0                   0   \n",
      "4      0      0    2   -2       1                  0                   0   \n",
      "\n",
      "   ExclamationMarkCount  AllCapitalised  bitch  ...  xxx  #sex  #xxx  blow  \\\n",
      "0                     0               0      0  ...    0     0     0     0   \n",
      "1                     2               0      0  ...    0     0     0     0   \n",
      "2                     0               0      1  ...    0     0     0     0   \n",
      "3                     0               0      0  ...    0     0     0     0   \n",
      "4                     0               0      1  ...    0     0     0     0   \n",
      "\n",
      "   mother  drug  rap  sexi  lip  thick  \n",
      "0       0     0    0     0    0      0  \n",
      "1       0     0    0     0    0      0  \n",
      "2       0     0    0     0    0      0  \n",
      "3       0     0    0     0    0      0  \n",
      "4       0     0    0     0    0      0  \n",
      "\n",
      "[5 rows x 146 columns]\n"
     ]
    },
    {
     "data": {
      "text/plain": [
       "<bound method NDFrame.describe of        class  scale  Pos  Neg  binary  QuestionMarkCount  QuotationMarkCount  \\\n",
       "0          1     -1    1   -2      -1                  0                   1   \n",
       "1          0     -2    1   -3      -1                  0                   0   \n",
       "2          0     -2    2   -4      -1                  1                   0   \n",
       "3          0      1    2   -1       1                  0                   0   \n",
       "4          0      0    2   -2       1                  0                   0   \n",
       "...      ...    ...  ...  ...     ...                ...                 ...   \n",
       "40285      1      2    3   -1       1                  0                   0   \n",
       "40286      1      1    2   -1       1                  1                   2   \n",
       "40287      1     -1    1   -2      -1                  0                   0   \n",
       "40288      1      0    1   -1       1                  0                   0   \n",
       "40289      1      2    3   -1       1                  0                   0   \n",
       "\n",
       "       ExclamationMarkCount  AllCapitalised  bitch  ...  xxx  #sex  #xxx  \\\n",
       "0                         0               0      0  ...    0     0     0   \n",
       "1                         2               0      0  ...    0     0     0   \n",
       "2                         0               0      1  ...    0     0     0   \n",
       "3                         0               0      0  ...    0     0     0   \n",
       "4                         0               0      1  ...    0     0     0   \n",
       "...                     ...             ...    ...  ...  ...   ...   ...   \n",
       "40285                     0               0      0  ...    0     0     0   \n",
       "40286                     1               8      0  ...    0     0     0   \n",
       "40287                     0               0      0  ...    0     0     0   \n",
       "40288                     0               0      0  ...    0     0     0   \n",
       "40289                     1               1      0  ...    0     0     0   \n",
       "\n",
       "       blow  mother  drug  rap  sexi  lip  thick  \n",
       "0         0       0     0    0     0    0      0  \n",
       "1         0       0     0    0     0    0      0  \n",
       "2         0       0     0    0     0    0      0  \n",
       "3         0       0     0    0     0    0      0  \n",
       "4         0       0     0    0     0    0      0  \n",
       "...     ...     ...   ...  ...   ...  ...    ...  \n",
       "40285     0       0     0    0     0    0      0  \n",
       "40286     0       0     0    0     0    0      0  \n",
       "40287     0       0     0    0     0    0      0  \n",
       "40288     0       0     0    0     0    0      0  \n",
       "40289     0       0     0    0     0    0      0  \n",
       "\n",
       "[40290 rows x 146 columns]>"
      ]
     },
     "execution_count": 8,
     "metadata": {},
     "output_type": "execute_result"
    }
   ],
   "source": [
    "print(data.head())\n",
    "data.describe"
   ]
  },
  {
   "cell_type": "code",
   "execution_count": 9,
   "metadata": {},
   "outputs": [],
   "source": [
    "X = data[columns[1:]].to_numpy()\n",
    "X = minmax.fit_transform(X)\n",
    "y = data['class'].to_numpy()"
   ]
  },
  {
   "cell_type": "code",
   "execution_count": 10,
   "metadata": {},
   "outputs": [
    {
     "name": "stdout",
     "output_type": "stream",
     "text": [
      "[[0.375 0.    0.75  ... 0.    0.    0.   ]\n",
      " [0.25  0.    0.5   ... 0.    0.    0.   ]\n",
      " [0.25  0.25  0.25  ... 0.    0.    0.   ]\n",
      " ...\n",
      " [0.375 0.    0.75  ... 0.    0.    0.   ]\n",
      " [0.5   0.    1.    ... 0.    0.    0.   ]\n",
      " [0.75  0.5   1.    ... 0.    0.    0.   ]]\n"
     ]
    }
   ],
   "source": [
    "print(X)"
   ]
  },
  {
   "cell_type": "code",
   "execution_count": 11,
   "metadata": {},
   "outputs": [],
   "source": [
    "from sklearn.model_selection import train_test_split\n",
    "X_train, X_test, y_train, y_test=train_test_split(X,y,test_size=0.2,stratify=data['class'])"
   ]
  },
  {
   "cell_type": "code",
   "execution_count": 12,
   "metadata": {},
   "outputs": [],
   "source": [
    "from sklearn.ensemble import RandomForestClassifier\n",
    "clf = RandomForestClassifier(max_depth=40, random_state=0)"
   ]
  },
  {
   "cell_type": "code",
   "execution_count": 13,
   "metadata": {},
   "outputs": [
    {
     "name": "stdout",
     "output_type": "stream",
     "text": [
      "Wall time: 5 s\n"
     ]
    },
    {
     "data": {
      "text/plain": [
       "RandomForestClassifier(max_depth=40, random_state=0)"
      ]
     },
     "execution_count": 13,
     "metadata": {},
     "output_type": "execute_result"
    }
   ],
   "source": [
    "%time clf.fit(X_train, y_train)"
   ]
  },
  {
   "cell_type": "code",
   "execution_count": 14,
   "metadata": {},
   "outputs": [
    {
     "name": "stdout",
     "output_type": "stream",
     "text": [
      "Wall time: 148 ms\n",
      "96.72375279225615\n"
     ]
    }
   ],
   "source": [
    "%time Score = clf.score(X_test,y_test)\n",
    "print(Score*100)"
   ]
  },
  {
   "cell_type": "code",
   "execution_count": 15,
   "metadata": {},
   "outputs": [],
   "source": [
    "from sklearn.metrics import accuracy_score, confusion_matrix, classification_report, cohen_kappa_score"
   ]
  },
  {
   "cell_type": "code",
   "execution_count": 16,
   "metadata": {},
   "outputs": [
    {
     "name": "stdout",
     "output_type": "stream",
     "text": [
      "Wall time: 141 ms\n",
      "[[3921  203]\n",
      " [  61 3873]]\n",
      "Accuracy 96.72375279225615\n",
      "              precision    recall  f1-score   support\n",
      "\n",
      "           0       0.98      0.95      0.97      4124\n",
      "           1       0.95      0.98      0.97      3934\n",
      "\n",
      "    accuracy                           0.97      8058\n",
      "   macro avg       0.97      0.97      0.97      8058\n",
      "weighted avg       0.97      0.97      0.97      8058\n",
      "\n",
      "Cohen Kappa score: 0.9344930741589769\n"
     ]
    }
   ],
   "source": [
    "%time y_pred = clf.predict(X_test)\n",
    "print(confusion_matrix(y_test, y_pred))\n",
    "print('Accuracy', accuracy_score(y_test, y_pred) * 100)\n",
    "print(classification_report(y_test, y_pred))\n",
    "print('Cohen Kappa score:', cohen_kappa_score(y_test, y_pred))"
   ]
  },
  {
   "cell_type": "code",
   "execution_count": 17,
   "metadata": {},
   "outputs": [
    {
     "name": "stdout",
     "output_type": "stream",
     "text": [
      "[0 0 1 ... 0 1 0]\n"
     ]
    }
   ],
   "source": [
    "print(y_pred)"
   ]
  },
  {
   "cell_type": "code",
   "execution_count": 18,
   "metadata": {},
   "outputs": [
    {
     "name": "stdout",
     "output_type": "stream",
     "text": [
      "0.5263233184814453\n",
      "Wall time: 6.98 ms\n",
      "[[15612   884]\n",
      " [  230 15506]]\n",
      "Accuracy 96.54380739637627\n",
      "              precision    recall  f1-score   support\n",
      "\n",
      "           0       0.99      0.95      0.97     16496\n",
      "           1       0.95      0.99      0.97     15736\n",
      "\n",
      "    accuracy                           0.97     32232\n",
      "   macro avg       0.97      0.97      0.97     32232\n",
      "weighted avg       0.97      0.97      0.97     32232\n",
      "\n",
      "Cohen Kappa score: 0.9309038475281197\n"
     ]
    }
   ],
   "source": [
    "from sklearn.linear_model import LogisticRegression\n",
    "lr=LogisticRegression()\n",
    "st = time.time()\n",
    "lr.fit(X_train,y_train)\n",
    "et = time.time()\n",
    "print(et-st)\n",
    "%time y_pred=lr.predict(X_train)\n",
    "print(confusion_matrix(y_train, y_pred))\n",
    "print('Accuracy', accuracy_score(y_train, y_pred) * 100)\n",
    "print(classification_report(y_train, y_pred))\n",
    "print('Cohen Kappa score:', cohen_kappa_score(y_train, y_pred))"
   ]
  },
  {
   "cell_type": "code",
   "execution_count": 19,
   "metadata": {},
   "outputs": [
    {
     "data": {
      "text/plain": [
       "(40290, 145)"
      ]
     },
     "execution_count": 19,
     "metadata": {},
     "output_type": "execute_result"
    }
   ],
   "source": [
    "X.shape"
   ]
  },
  {
   "cell_type": "code",
   "execution_count": 20,
   "metadata": {},
   "outputs": [],
   "source": [
    "Pkl_Filename = \"ternary_model.pkl\"  \n",
    "with open(Pkl_Filename, 'wb') as file:  \n",
    "    pickle.dump(lr, file)\n",
    "  \n"
   ]
  },
  {
   "cell_type": "code",
   "execution_count": 20,
   "metadata": {},
   "outputs": [
    {
     "name": "stdout",
     "output_type": "stream",
     "text": [
      "CPU times: user 1.21 s, sys: 8.55 ms, total: 1.22 s\n",
      "Wall time: 1.22 s\n"
     ]
    },
    {
     "data": {
      "text/plain": [
       "KNeighborsClassifier(algorithm='auto', leaf_size=30, metric='minkowski',\n",
       "                     metric_params=None, n_jobs=None, n_neighbors=10, p=2,\n",
       "                     weights='uniform')"
      ]
     },
     "execution_count": 20,
     "metadata": {},
     "output_type": "execute_result"
    }
   ],
   "source": [
    "from sklearn.neighbors import KNeighborsClassifier\n",
    "knn = KNeighborsClassifier(n_neighbors=10)\n",
    "%time knn.fit(X_train,y_train)"
   ]
  },
  {
   "cell_type": "code",
   "execution_count": 21,
   "metadata": {},
   "outputs": [
    {
     "name": "stdout",
     "output_type": "stream",
     "text": [
      "CPU times: user 10.4 s, sys: 41.2 ms, total: 10.4 s\n",
      "Wall time: 10.4 s\n",
      "[[  60  166   60]\n",
      " [  60 3619  399]\n",
      " [   6   72 2656]]\n",
      "Accuracy 89.25049309664695\n",
      "              precision    recall  f1-score   support\n",
      "\n",
      "           0       0.48      0.21      0.29       286\n",
      "           1       0.94      0.89      0.91      4078\n",
      "           2       0.85      0.97      0.91      2734\n",
      "\n",
      "    accuracy                           0.89      7098\n",
      "   macro avg       0.76      0.69      0.70      7098\n",
      "weighted avg       0.89      0.89      0.89      7098\n",
      "\n",
      "Cohen Kappa score: 0.7925015609008812\n"
     ]
    }
   ],
   "source": [
    "%time y_pred = knn.predict(X_test)\n",
    "print(confusion_matrix(y_test, y_pred))\n",
    "print('Accuracy', accuracy_score(y_test, y_pred) * 100)\n",
    "print(classification_report(y_test, y_pred))\n",
    "print('Cohen Kappa score:', cohen_kappa_score(y_test, y_pred))"
   ]
  },
  {
   "cell_type": "code",
   "execution_count": 22,
   "metadata": {},
   "outputs": [],
   "source": [
    "from sklearn.naive_bayes import GaussianNB"
   ]
  },
  {
   "cell_type": "code",
   "execution_count": 23,
   "metadata": {},
   "outputs": [
    {
     "name": "stdout",
     "output_type": "stream",
     "text": [
      "CPU times: user 60.2 ms, sys: 35.4 ms, total: 95.7 ms\n",
      "Wall time: 96.1 ms\n"
     ]
    }
   ],
   "source": [
    "gnb = GaussianNB()\n",
    "%time model = gnb.fit(X_train, y_train)"
   ]
  },
  {
   "cell_type": "code",
   "execution_count": 24,
   "metadata": {},
   "outputs": [
    {
     "name": "stdout",
     "output_type": "stream",
     "text": [
      "CPU times: user 22.8 ms, sys: 7.13 ms, total: 30 ms\n",
      "Wall time: 28.5 ms\n",
      "[[ 234   10   42]\n",
      " [3379  348  351]\n",
      " [ 156   26 2552]]\n",
      "Accuracy 44.15328261482108\n"
     ]
    }
   ],
   "source": [
    "%time y_pred = model.predict(X_test)\n",
    "print(confusion_matrix(y_test, y_pred))\n",
    "print('Accuracy', accuracy_score(y_test, y_pred) * 100)"
   ]
  },
  {
   "cell_type": "code",
   "execution_count": 25,
   "metadata": {},
   "outputs": [
    {
     "name": "stdout",
     "output_type": "stream",
     "text": [
      "              precision    recall  f1-score   support\n",
      "\n",
      "           0       0.06      0.82      0.12       286\n",
      "           1       0.91      0.09      0.16      4078\n",
      "           2       0.87      0.93      0.90      2734\n",
      "\n",
      "    accuracy                           0.44      7098\n",
      "   macro avg       0.61      0.61      0.39      7098\n",
      "weighted avg       0.86      0.44      0.44      7098\n",
      "\n",
      "Cohen Kappa score: 0.2910243005055071\n"
     ]
    }
   ],
   "source": [
    "print(classification_report(y_test, y_pred))\n",
    "print('Cohen Kappa score:', cohen_kappa_score(y_test, y_pred))"
   ]
  },
  {
   "cell_type": "code",
   "execution_count": 26,
   "metadata": {},
   "outputs": [],
   "source": [
    "from sklearn.metrics import accuracy_score, log_loss\n",
    "from sklearn.neighbors import KNeighborsClassifier\n",
    "from sklearn.svm import SVC, LinearSVC, NuSVC\n",
    "from sklearn.tree import DecisionTreeClassifier\n",
    "from sklearn.ensemble import RandomForestClassifier, AdaBoostClassifier, GradientBoostingClassifier\n",
    "from sklearn.naive_bayes import GaussianNB\n",
    "from sklearn.discriminant_analysis import LinearDiscriminantAnalysis\n",
    "from sklearn.discriminant_analysis import QuadraticDiscriminantAnalysis\n"
   ]
  },
  {
   "cell_type": "code",
   "execution_count": 27,
   "metadata": {},
   "outputs": [],
   "source": [
    "classifiers = [\n",
    "#     KNeighborsClassifier(3),\n",
    "#     SVC(kernel=\"rbf\", C=0.025, probability=True),\n",
    "#     NuSVC(probability=True),\n",
    "    DecisionTreeClassifier(),\n",
    "    RandomForestClassifier(),\n",
    "    AdaBoostClassifier(),\n",
    "    GradientBoostingClassifier(),\n",
    "    GaussianNB(),\n",
    "    LinearDiscriminantAnalysis(),\n",
    "    QuadraticDiscriminantAnalysis()]"
   ]
  },
  {
   "cell_type": "code",
   "execution_count": 28,
   "metadata": {},
   "outputs": [
    {
     "name": "stdout",
     "output_type": "stream",
     "text": [
      "==============================\n",
      "DecisionTreeClassifier\n",
      "****Results****\n",
      "Accuracy: 87.2218%\n",
      "Log Loss: 2.5486950267270774\n",
      "==============================\n",
      "RandomForestClassifier\n",
      "****Results****\n",
      "Accuracy: 88.9828%\n",
      "Log Loss: 0.6523806424258477\n",
      "==============================\n",
      "AdaBoostClassifier\n",
      "****Results****\n",
      "Accuracy: 89.5604%\n",
      "Log Loss: 1.032948677958362\n",
      "==============================\n",
      "GradientBoostingClassifier\n",
      "****Results****\n",
      "Accuracy: 89.5464%\n",
      "Log Loss: 0.3282188915237278\n",
      "==============================\n",
      "GaussianNB\n",
      "****Results****\n",
      "Accuracy: 44.1533%\n",
      "Log Loss: 18.723625718017775\n",
      "==============================\n",
      "LinearDiscriminantAnalysis\n",
      "****Results****\n",
      "Accuracy: 88.5461%\n",
      "Log Loss: 0.5206582522934258\n"
     ]
    },
    {
     "name": "stderr",
     "output_type": "stream",
     "text": [
      "/usr/local/lib/python3.7/site-packages/sklearn/discriminant_analysis.py:691: UserWarning: Variables are collinear\n",
      "  warnings.warn(\"Variables are collinear\")\n"
     ]
    },
    {
     "name": "stdout",
     "output_type": "stream",
     "text": [
      "==============================\n",
      "QuadraticDiscriminantAnalysis\n",
      "****Results****\n",
      "Accuracy: 41.9696%\n",
      "Log Loss: 19.989812463299078\n",
      "==============================\n"
     ]
    }
   ],
   "source": [
    "log_cols=[\"Classifier\", \"Accuracy\", \"Log Loss\"]\n",
    "log = pd.DataFrame(columns=log_cols)\n",
    "\n",
    "for clf in classifiers:\n",
    "    clf.fit(X_train, y_train)\n",
    "    name = clf.__class__.__name__\n",
    "    \n",
    "    print(\"=\"*30)\n",
    "    print(name)\n",
    "    \n",
    "    print('****Results****')\n",
    "    train_predictions = clf.predict(X_test)\n",
    "    acc = accuracy_score(y_test, train_predictions)\n",
    "    print(\"Accuracy: {:.4%}\".format(acc))\n",
    "    \n",
    "    train_predictions = clf.predict_proba(X_test)\n",
    "    ll = log_loss(y_test, train_predictions)\n",
    "    print(\"Log Loss: {}\".format(ll))\n",
    "    \n",
    "    log_entry = pd.DataFrame([[name, acc*100, ll]], columns=log_cols)\n",
    "    log = log.append(log_entry)\n",
    "    \n",
    "print(\"=\"*30)"
   ]
  },
  {
   "cell_type": "code",
   "execution_count": null,
   "metadata": {},
   "outputs": [],
   "source": []
  },
  {
   "cell_type": "code",
   "execution_count": null,
   "metadata": {},
   "outputs": [],
   "source": []
  }
 ],
 "metadata": {
  "kernelspec": {
   "display_name": "Python 3",
   "language": "python",
   "name": "python3"
  },
  "language_info": {
   "codemirror_mode": {
    "name": "ipython",
    "version": 3
   },
   "file_extension": ".py",
   "mimetype": "text/x-python",
   "name": "python",
   "nbconvert_exporter": "python",
   "pygments_lexer": "ipython3",
   "version": "3.8.9"
  }
 },
 "nbformat": 4,
 "nbformat_minor": 2
}
